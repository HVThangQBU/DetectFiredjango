{
 "cells": [
  {
   "cell_type": "code",
   "execution_count": 5,
   "metadata": {
    "collapsed": true,
    "pycharm": {
     "name": "#%%\n"
    }
   },
   "outputs": [
    {
     "name": "stdout",
     "output_type": "stream",
     "text": [
      "[]\n",
      "[1, 2]\n"
     ]
    }
   ],
   "source": [
    "a = []\n",
    "print(a)\n",
    "a.append(1)\n",
    "a.append(2)\n",
    "print(a)"
   ]
  },
  {
   "cell_type": "code",
   "execution_count": 14,
   "metadata": {
    "collapsed": false,
    "pycharm": {
     "name": "#%%\n"
    }
   },
   "outputs": [
    {
     "name": "stdout",
     "output_type": "stream",
     "text": [
      "C\n"
     ]
    }
   ],
   "source": [
    "from random import random\n",
    "import numpy as np\n",
    "\n",
    "ARRAY_NAME = ['A', 'B', 'C']\n",
    "\n",
    "b = np.random.choice(ARRAY_NAME)\n",
    "print(b)"
   ]
  },
  {
   "cell_type": "code",
   "execution_count": 20,
   "metadata": {
    "collapsed": false,
    "pycharm": {
     "name": "#%%\n"
    }
   },
   "outputs": [
    {
     "name": "stdout",
     "output_type": "stream",
     "text": [
      "Thoi gian hien tai la : SE Asia Standard Time\n",
      "44\n",
      "2022-12-07 13:51:44.743468\n",
      "2022-12-07 13:51:44\n"
     ]
    }
   ],
   "source": [
    "import time;\n",
    "import datetime\n",
    "from django.utils import timezone\n",
    "localtime = time.localtime(time.time())\n",
    "print(\"Thoi gian hien tai la :\", localtime.tm_zone)\n",
    "today = datetime.datetime.now().second\n",
    "print(today)\n",
    "# 2022-12-07 13:20:56.710397\n",
    "localtime = datetime.datetime.now()\n",
    "print(localtime)\n",
    "print(localtime.strftime(\"%Y-%m-%d %H:%M:%S\"))"
   ]
  },
  {
   "cell_type": "code",
   "execution_count": 11,
   "metadata": {
    "collapsed": false,
    "pycharm": {
     "name": "#%%\n"
    }
   },
   "outputs": [
    {
     "name": "stdout",
     "output_type": "stream",
     "text": [
      "0.01\n"
     ]
    }
   ],
   "source": [
    "print(2 * 5e-3)"
   ]
  },
  {
   "cell_type": "code",
   "execution_count": 12,
   "metadata": {
    "collapsed": false,
    "pycharm": {
     "name": "#%%\n"
    }
   },
   "outputs": [
    {
     "name": "stdout",
     "output_type": "stream",
     "text": [
      "0.05\n",
      "0.05\n"
     ]
    }
   ],
   "source": [
    "print(5e-2)\n",
    "print(5/100)\n"
   ]
  },
  {
   "cell_type": "code",
   "execution_count": 19,
   "metadata": {
    "collapsed": false,
    "pycharm": {
     "name": "#%%\n"
    }
   },
   "outputs": [
    {
     "name": "stdout",
     "output_type": "stream",
     "text": [
      "2022-12-02\n"
     ]
    }
   ],
   "source": [
    "from datetime import datetime\n",
    "import os\n",
    "\n",
    "today = datetime.now()\n",
    "print(today.strftime(\"%Y-%m-%d\"))\n",
    "# if today.hour < 12:\n",
    "#     h = \"00\"\n",
    "# else:\n",
    "#     h = \"12\"\n",
    "#\n",
    "# os.mkdir(\"canhbao/media/detect_image/\" + today.strftime('%Y%m%d')+ h)\n"
   ]
  },
  {
   "cell_type": "code",
   "execution_count": 1,
   "metadata": {
    "collapsed": false,
    "pycharm": {
     "name": "#%%\n"
    }
   },
   "outputs": [
    {
     "name": "stdout",
     "output_type": "stream",
     "text": [
      "2022-12-05\n"
     ]
    }
   ],
   "source": [
    "import os, datetime;\n",
    "datestring = datetime.datetime.now().strftime(\"%Y-%m-%d\");\n",
    "print (datestring);\n",
    "os.mkdir(\"canhbao/media/detect_image/\" + datestring);"
   ]
  },
  {
   "cell_type": "code",
   "execution_count": 2,
   "metadata": {
    "collapsed": false,
    "pycharm": {
     "name": "#%%\n"
    }
   },
   "outputs": [
    {
     "name": "stdout",
     "output_type": "stream",
     "text": [
      "2022-12-05\n",
      "canhbao/media/detect_image/2022-12-05\n",
      "canhbao/media/detect_image/2022-12-05\n",
      "23127777777777777\n"
     ]
    }
   ],
   "source": [
    "import os, datetime;\n",
    "cam_id = \"jaja\"\n",
    "try:\n",
    " datestring = datetime.datetime.now().strftime(\"%Y-%m-%d\");\n",
    " print (datestring);\n",
    " os.mkdir(\"canhbao/media/detect_image/\" + cam_id)\n",
    " os.mkdir(\"canhbao/media/detect_image/\" + cam_id  + \"/\"+ datestring)\n",
    "except:\n",
    " print(\"An exception occurred\")\n",
    "out_path = \"canhbao/media/detect_image/\"+ datestring\n",
    "print(out_path)\n",
    "print(\"canhbao/media/detect_image/\" + datestring);\n",
    "print(23127777777777777)"
   ]
  },
  {
   "cell_type": "code",
   "execution_count": 32,
   "metadata": {
    "collapsed": false,
    "pycharm": {
     "name": "#%%\n"
    }
   },
   "outputs": [
    {
     "name": "stdout",
     "output_type": "stream",
     "text": [
      "2022-12-07 12:05:27.825039\n",
      "time.struct_time(tm_year=2022, tm_mon=12, tm_mday=7, tm_hour=12, tm_min=5, tm_sec=27, tm_wday=2, tm_yday=341, tm_isdst=0)\n",
      "27\n",
      "5\n",
      "time.struct_time(tm_year=2022, tm_mon=12, tm_mday=7, tm_hour=12, tm_min=5, tm_sec=27, tm_wday=2, tm_yday=341, tm_isdst=0)\n"
     ]
    }
   ],
   "source": [
    "from django.utils import timezone\n",
    "import datetime\n",
    "import time\n",
    "# datestring = datetime.datetime.now().strftime(\"%d %H-%M-%S\");\n",
    "# print(datestring)\n",
    "# datestring2 = datetime.datetime.now(tz=timezone.utc).strftime(\"%Y-%m-%d %H:%M:%S\");\n",
    "# print(datestring2)\n",
    "now = datetime.datetime.now()\n",
    "print(now)\n",
    "a = now.second\n",
    "b = now.microsecond\n",
    "n = 0;\n",
    "# while n < 20:\n",
    "#\n",
    "#  print(a)\n",
    "#  if int(now.second) % 2 == 0 & b == 521959:\n",
    "#   print(now.microsecond)\n",
    "#   print(12321, 'asdasdas')\n",
    "#   exit()\n",
    "#  n = n + 1\n",
    "\n",
    "# end = datetime.datetime.now()\n",
    "# print(end)\n",
    "# print('Duration: {}'.format(end - now))\n",
    "localtime = time.localtime(time.time())\n",
    "print(localtime)\n",
    "\n",
    "print(localtime.tm_sec)\n",
    "print(localtime.tm_min)\n",
    "t = time.localtime(time.time())\n",
    "print(t)\n",
    "# second = 0\n",
    "# second = localtime.tm_sec\n",
    "# if localtime.tm_sec == second:print(12312)\n"
   ]
  },
  {
   "cell_type": "code",
   "execution_count": 31,
   "metadata": {
    "collapsed": false,
    "pycharm": {
     "name": "#%%\n"
    }
   },
   "outputs": [
    {
     "name": "stdout",
     "output_type": "stream",
     "text": [
      "time.struct_time(tm_year=2022, tm_mon=12, tm_mday=7, tm_hour=12, tm_min=2, tm_sec=35, tm_wday=2, tm_yday=341, tm_isdst=0)\n",
      "3423\n"
     ]
    }
   ],
   "source": [
    "t = time.localtime(time.time())\n",
    "print(t)\n",
    "if localtime != t:\n",
    " print(3423)"
   ]
  },
  {
   "cell_type": "code",
   "execution_count": 64,
   "metadata": {
    "collapsed": false,
    "pycharm": {
     "name": "#%%\n"
    }
   },
   "outputs": [
    {
     "name": "stdout",
     "output_type": "stream",
     "text": [
      "27\n",
      "2022-12-07\n",
      "27\n",
      "2022-12-07 05:50:27.440996\n",
      "27\n"
     ]
    }
   ],
   "source": [
    "from django.utils import timezone\n",
    "import os\n",
    "os.environ['DJANGO_SETTINGS_MODULE'] = 'djangoProject.settings'\n",
    "now = timezone.now().second\n",
    "today = timezone.now().date()\n",
    "top = datetime.datetime.now(tz=timezone.utc).second\n",
    "print(top)\n",
    "print(today)\n",
    "print(now)\n",
    "naive = datetime.datetime.utcnow()\n",
    "aware = timezone.now().second\n",
    "naive == aware\n",
    "print(naive)\n",
    "print(aware)"
   ]
  },
  {
   "cell_type": "code",
   "execution_count": 17,
   "metadata": {
    "collapsed": false,
    "pycharm": {
     "name": "#%%\n"
    }
   },
   "outputs": [
    {
     "name": "stdout",
     "output_type": "stream",
     "text": [
      "36\n",
      "36\n",
      "Duration: 0\n",
      "0\n"
     ]
    }
   ],
   "source": [
    "from django.utils import timezone\n",
    "import datetime\n",
    "import time\n",
    "now = datetime.datetime.now().second\n",
    "print(now)\n",
    "localtime = time.localtime(time.time())\n",
    "# start = localtime.tm_sec\n",
    "# print(start)\n",
    "end = datetime.datetime.now().second\n",
    "print(localtime.tm_sec)\n",
    "print('Duration: {}'.format(end - now))\n",
    "hh = end - now\n",
    "print(hh)\n",
    "if (hh>0):\n",
    "    print(1)\n"
   ]
  },
  {
   "cell_type": "code",
   "execution_count": 18,
   "metadata": {
    "collapsed": false,
    "pycharm": {
     "name": "#%%\n"
    }
   },
   "outputs": [
    {
     "name": "stdout",
     "output_type": "stream",
     "text": [
      "39\n",
      "Duration: 3\n",
      "3\n",
      "1\n"
     ]
    }
   ],
   "source": [
    "end = datetime.datetime.now().second\n",
    "print(end)\n",
    "# time_end = localtime.tm_sec\n",
    "# print(time_end)\n",
    "# print('Duration: {}', time_end - start)\n",
    "print('Duration: {}'.format(end - now))\n",
    "hh = end - now\n",
    "print(hh)\n",
    "if (hh>0):\n",
    "    print(1)\n"
   ]
  },
  {
   "cell_type": "code",
   "execution_count": 23,
   "metadata": {
    "collapsed": false,
    "pycharm": {
     "name": "#%%\n"
    }
   },
   "outputs": [],
   "source": []
  }
 ],
 "metadata": {
  "kernelspec": {
   "display_name": "Python 3.9.15 ('detectionFire')",
   "language": "python",
   "name": "python3"
  },
  "language_info": {
   "codemirror_mode": {
    "name": "ipython",
    "version": 3
   },
   "file_extension": ".py",
   "mimetype": "text/x-python",
   "name": "python",
   "nbconvert_exporter": "python",
   "pygments_lexer": "ipython3",
   "version": "3.9.15 (main, Nov  4 2022, 16:35:55) [MSC v.1916 64 bit (AMD64)]"
  },
  "vscode": {
   "interpreter": {
    "hash": "222102a49b303ea5b620d4c673f41aeda949c8d63d3f6b7545229e3d4a75fbb5"
   }
  }
 },
 "nbformat": 4,
 "nbformat_minor": 0
}
