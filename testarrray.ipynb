{
 "cells": [
  {
   "cell_type": "code",
   "execution_count": 5,
   "metadata": {
    "collapsed": true,
    "pycharm": {
     "name": "#%%\n"
    }
   },
   "outputs": [
    {
     "name": "stdout",
     "output_type": "stream",
     "text": [
      "[]\n",
      "[1, 2]\n"
     ]
    }
   ],
   "source": [
    "a = []\n",
    "print(a)\n",
    "a.append(1)\n",
    "a.append(2)\n",
    "print(a)"
   ]
  },
  {
   "cell_type": "code",
   "execution_count": 14,
   "outputs": [
    {
     "name": "stdout",
     "output_type": "stream",
     "text": [
      "C\n"
     ]
    }
   ],
   "source": [
    "from random import random\n",
    "import numpy as np\n",
    "\n",
    "ARRAY_NAME = ['A', 'B', 'C']\n",
    "\n",
    "b = np.random.choice(ARRAY_NAME)\n",
    "print(b)"
   ],
   "metadata": {
    "collapsed": false,
    "pycharm": {
     "name": "#%%\n"
    }
   }
  },
  {
   "cell_type": "code",
   "execution_count": 6,
   "outputs": [
    {
     "name": "stdout",
     "output_type": "stream",
     "text": [
      "Thoi gian hien tai la : 8\n"
     ]
    }
   ],
   "source": [
    "import time;\n",
    "localtime = time.localtime(time.time())\n",
    "print(\"Thoi gian hien tai la :\", localtime.tm_sec)"
   ],
   "metadata": {
    "collapsed": false,
    "pycharm": {
     "name": "#%%\n"
    }
   }
  },
  {
   "cell_type": "code",
   "execution_count": 1,
   "outputs": [
    {
     "name": "stdout",
     "output_type": "stream",
     "text": [
      "0.01\n"
     ]
    }
   ],
   "source": [
    "print(2 * 5e-3)"
   ],
   "metadata": {
    "collapsed": false,
    "pycharm": {
     "name": "#%%\n"
    }
   }
  },
  {
   "cell_type": "code",
   "execution_count": 12,
   "outputs": [
    {
     "name": "stdout",
     "output_type": "stream",
     "text": [
      "0.05\n",
      "0.05\n"
     ]
    }
   ],
   "source": [
    "print(5e-2)\n",
    "print(5/100)\n"
   ],
   "metadata": {
    "collapsed": false,
    "pycharm": {
     "name": "#%%\n"
    }
   }
  },
  {
   "cell_type": "code",
   "execution_count": 19,
   "outputs": [
    {
     "name": "stdout",
     "output_type": "stream",
     "text": [
      "2022-12-02\n"
     ]
    }
   ],
   "source": [
    "from datetime import datetime\n",
    "import os\n",
    "\n",
    "today = datetime.now()\n",
    "print(today.strftime(\"%Y-%m-%d\"))\n",
    "# if today.hour < 12:\n",
    "#     h = \"00\"\n",
    "# else:\n",
    "#     h = \"12\"\n",
    "#\n",
    "# os.mkdir(\"canhbao/media/detect_image/\" + today.strftime('%Y%m%d')+ h)\n"
   ],
   "metadata": {
    "collapsed": false,
    "pycharm": {
     "name": "#%%\n"
    }
   }
  },
  {
   "cell_type": "code",
   "execution_count": 11,
   "outputs": [
    {
     "name": "stdout",
     "output_type": "stream",
     "text": [
      "2022-12-02\n"
     ]
    }
   ],
   "source": [
    "import os, datetime;\n",
    "datestring = datetime.datetime.now().strftime(\"%Y-%m-%d\");\n",
    "print (datestring);\n",
    "os.mkdir(\"canhbao/media/detect_image/\" + datestring);"
   ],
   "metadata": {
    "collapsed": false,
    "pycharm": {
     "name": "#%%\n"
    }
   }
  },
  {
   "cell_type": "code",
   "execution_count": 29,
   "outputs": [
    {
     "name": "stdout",
     "output_type": "stream",
     "text": [
      "2022-12-02\n",
      "canhbao/media/detect_image/2022-12-02\n",
      "canhbao/media/detect_image/2022-12-02\n",
      "23127777777777777\n"
     ]
    }
   ],
   "source": [
    "import os, datetime;\n",
    "cam_id = \"jaja\"\n",
    "try:\n",
    " datestring = datetime.datetime.now().strftime(\"%Y-%m-%d\");\n",
    " print (datestring);\n",
    " os.mkdir(\"canhbao/media/detect_image/\" + cam_id)\n",
    " os.mkdir(\"canhbao/media/detect_image/\" + cam_id  + \"/\"+ datestring)\n",
    "except:\n",
    " print(\"An exception occurred\")\n",
    "out_path = \"canhbao/media/detect_image/\"+ datestring\n",
    "print(out_path)\n",
    "print(\"canhbao/media/detect_image/\" + datestring);\n",
    "print(23127777777777777)"
   ],
   "metadata": {
    "collapsed": false,
    "pycharm": {
     "name": "#%%\n"
    }
   }
  },
  {
   "cell_type": "code",
   "execution_count": 25,
   "outputs": [
    {
     "name": "stdout",
     "output_type": "stream",
     "text": [
      "02 02-44-30\n"
     ]
    }
   ],
   "source": [
    "\n",
    "datestring = datetime.datetime.now().strftime(\"%d %H-%M-%S\");\n",
    "print(datestring)\n",
    "\n",
    "datestring = datetime.datetime.now().strftime(\"%Y-%m-%d %H:%M:%S\");"
   ],
   "metadata": {
    "collapsed": false,
    "pycharm": {
     "name": "#%%\n"
    }
   }
  },
  {
   "cell_type": "code",
   "execution_count": null,
   "outputs": [],
   "source": [],
   "metadata": {
    "collapsed": false,
    "pycharm": {
     "name": "#%%\n"
    }
   }
  }
 ],
 "metadata": {
  "kernelspec": {
   "display_name": "Python 3",
   "language": "python",
   "name": "python3"
  },
  "language_info": {
   "codemirror_mode": {
    "name": "ipython",
    "version": 2
   },
   "file_extension": ".py",
   "mimetype": "text/x-python",
   "name": "python",
   "nbconvert_exporter": "python",
   "pygments_lexer": "ipython2",
   "version": "2.7.6"
  }
 },
 "nbformat": 4,
 "nbformat_minor": 0
}